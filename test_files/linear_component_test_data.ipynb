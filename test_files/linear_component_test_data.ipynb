{
 "cells": [
  {
   "attachments": {},
   "cell_type": "markdown",
   "metadata": {},
   "source": [
    "### Linear Actuator Test Data\n",
    "This document is a record of the $k$ value of the sping in the linear actuator component. The experimental data ($De$) is plotted as a function of spring constant ($k$) vs number of active coils ($na$). The experimental data is also plotted vs the theoretical values ($Dt$) of what the $k$ should be for each number of active coils\n",
    "\n",
    "## Procedure\n",
    "# Experimental\n",
    "The $k$ value was calculated by solving $$k = F/x$$ where $F$ was in newtons ($N$) and $x$ was in meters ($m$).\n",
    "\n",
    "# Theoretical\n",
    "The $k$ value for the theoretical data was calculated by solving the equation $$k = d^4*G / 8D^3na$$ where $d$ = __, $G$ = __, $D$ = __, and na is the number of active coils. This is calculated for each value $na$ that was experimentally tested."
   ]
  },
  {
   "cell_type": "code",
   "execution_count": 54,
   "metadata": {},
   "outputs": [],
   "source": [
    "# imports and functtions\n",
    "import matplotlib.pyplot as plt\n",
    "import numpy as np\n",
    "import statistics as stats\n",
    "\n",
    "def find_dx(x_init, x_final):\n",
    "    dx = []\n",
    "    for x in x_final:\n",
    "        dx.append((x_init - x)*.01)\n",
    "    return dx\n",
    "\n",
    "def find_k(f, dx):\n",
    "    k_list = []\n",
    "    for i in range(0, len(f)):\n",
    "        k_list.append((f[i]/dx[i])*(.224809/39.3))\n",
    "    return  stats.mean(k_list)\n",
    "\n"
   ]
  },
  {
   "cell_type": "code",
   "execution_count": 55,
   "metadata": {},
   "outputs": [
    {
     "name": "stdout",
     "output_type": "stream",
     "text": [
      "[0.008499999999999997, 0.0075, 0.008499999999999997, 0.00799999999999999, 0.01]\n",
      "157.7201753654643\n",
      "[798.6898794211237, 857.0117038841968, 880.367842381829, 1148.4250496823984, 916.1615905050514, 1209.8988760718073, 1242.5282955990945, 1453.2846826367088]\n",
      "[96.046184, 76.8369472, 64.03078933333333, 54.88353371428571, 48.023092, 42.68719288888889, 38.4184736, 34.92588509090909]\n",
      "K: \n",
      "[157.7201753654643, 173.51718129378978, 123.65390607345721, 104.12626510514086, 85.52532885016784, 88.87818882250994, 69.39683436107244, 78.02242514638947]\n"
     ]
    },
    {
     "data": {
      "image/png": "[encoded data removed]",
      "text/plain": [
       "<Figure size 432x288 with 1 Axes>"
      ]
     },
     "metadata": {
      "needs_background": "light"
     },
     "output_type": "display_data"
    }
   ],
   "source": [
    "# experimental data\n",
    "na = [2, 2.5, 3, 3.5, 4, 4.5, 5, 5.5]\n",
    "\n",
    "two_f = [207.8, 232.7, 238.6, 234.6, 249.9]\n",
    "two_x_s = 11.2\n",
    "two_x_e = [10.35, 10.45, 10.35, 10.4, 10.2]\n",
    "two_d_x = find_dx(two_x_s, two_x_e)\n",
    "two_k = find_k(two_f, two_d_x)\n",
    "print(two_d_x)\n",
    "print(two_k)\n",
    "\n",
    "two_half_f = [255.1, 237.3, 218.9, 216.3, 234.4]\n",
    "two_half_x_s = 10.9\n",
    "two_half_x_e = [10.05, 10, 10.05, 10.3, 10.2]\n",
    "two_half_d_x = find_dx(two_half_x_s, two_half_x_e)\n",
    "two_half_k = find_k(two_half_f, two_half_d_x)\n",
    "\n",
    "three_f = [206.3, 223.1, 201.1, 218.3, 200.0]\n",
    "three_x_s = 11.1\n",
    "three_x_e = [10.2, 10.2, 10.2, 10, 10]\n",
    "three_d_x = find_dx(three_x_s, three_x_e)\n",
    "three_k = find_k(three_f, three_d_x)\n",
    "\n",
    "three_half_f = [212.7, 180.8, 175.3, 169.2, 196.9]\n",
    "three_half_x_s = 11.1\n",
    "three_half_x_e = [10.1, 10.1, 10.1, 10, 10.05]\n",
    "three_half_d_x = find_dx(three_half_x_s, three_half_x_e)\n",
    "three_half_k = find_k(three_half_f, three_half_d_x)\n",
    "\n",
    "four_f = [167.8, 181.5, 159.7, 181.4, 151.9]\n",
    "four_x_s = 11.2\n",
    "four_x_e = [10, 10.1, 10, 10.05, 10.2]\n",
    "four_d_x = find_dx(four_x_s, four_x_e)\n",
    "four_k = find_k(four_f, four_d_x)\n",
    "\n",
    "four_half_f = [183.6, 189.0, 134.6, 194.4, 191.1]\n",
    "four_half_x_s = 11.2\n",
    "four_half_x_e = [10.05, 10.2, 10, 10.05, 9.9]\n",
    "four_half_d_x = find_dx(four_half_x_s, four_half_x_e)\n",
    "four_half_k = find_k(four_half_f, four_half_d_x)\n",
    "\n",
    "five_f = [155.5, 168.1, 153.7, 168.8, 164.3]\n",
    "five_x_s = 11.3\n",
    "five_x_e = [9.9, 10.05, 10, 9.85, 10]\n",
    "five_d_x = find_dx(five_x_s, five_x_e)\n",
    "five_k = find_k(five_f, five_d_x)\n",
    "\n",
    "five_half_f = [165.8, 177.8, 189.5, 165.0, 168.6]\n",
    "five_half_x_s = 11.5\n",
    "five_half_x_e = [10.1, 10.35, 9.9, 10.4, 10.3]\n",
    "five_half_d_x = find_dx(five_half_x_s, five_half_x_e)\n",
    "five_half_k = find_k(five_half_f, five_half_d_x)\n",
    "\n",
    "exp_F = [145.7*.224809, 175.1*.224809, 160.6*.224809, 167.6*.224809, 180.5*.224809, 185.4*.224809, 217.6*.224809, 233.3*.224809]\n",
    "exp_x = [.0125*3.28084, .014*3.28084, .0125*3.28084, .01*3.28084, .0135*3.28084, .0105*3.28084, .012*3.28084, .011*3.28084]\n",
    "exp_k = []\n",
    "the_k = []\n",
    "\n",
    "d = .062 # in\n",
    "D = .5 # in\n",
    "G = 13*(10**6)\n",
    "\n",
    "for i in range(0, len(na)):\n",
    "    exp_k.append((exp_F[i])/(exp_x[i]))\n",
    "\n",
    "for j in range(0, len(na)):\n",
    "    the_k.append((d**4*G)/(8*D**3*na[j]))\n",
    "\n",
    "print(exp_k)\n",
    "print(the_k)\n",
    "\n",
    "k = [two_k, two_half_k, three_k, three_half_k, four_k, four_half_k, five_k, five_half_k]\n",
    "print(\"K: \")\n",
    "print(k)\n",
    "plt.plot(na, k)\n",
    "plt.plot(na, the_k)\n",
    "plt.show()"
   ]
  }
 ],
 "metadata": {
  "kernelspec": {
   "display_name": "Python 3",
   "language": "python",
   "name": "python3"
  },
  "language_info": {
   "name": "python",
   "version": "3.10.12"
  },
  "orig_nbformat": 4
 },
 "nbformat": 4,
 "nbformat_minor": 2
}
